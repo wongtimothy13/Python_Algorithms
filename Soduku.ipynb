{
 "cells": [
  {
   "cell_type": "code",
   "execution_count": null,
   "id": "prime-subcommittee",
   "metadata": {},
   "outputs": [],
   "source": [
    "import time \n",
    "\n",
    "def valid_solution(board):\n",
    "    b = board.copy()\n",
    "    for r in range(len(b)): # for each row of the board\n",
    "        stk = set()\n",
    "        for c in range(len(b)):\n",
    "            if b[r][c] not in stk and b[r][c] != 0:\n",
    "                stk.add(b[r][c])\n",
    "            else: \n",
    "                return False\n",
    "    for c in range(len(b)): # for each col of the board\n",
    "        stk = set()\n",
    "        for r in range(len(b)):\n",
    "            if b[r][c] not in stk and b[r][c] != 0:\n",
    "                stk.add(b[r][c])\n",
    "            else:\n",
    "                return False\n",
    "    \n",
    "    locs = [(1,1),(1,4),(1,7),  (4,1),(4,4),(4,7),   (7,1),(7,4),(7,7)]\n",
    "    sprs = [(-1,-1),(-1,0),(-1,1),  (0,-1),(0,1),   (1,-1),(1,0),(1,1)]\n",
    "    for loc in locs:\n",
    "        stk = set()\n",
    "        for spr in sprs:\n",
    "            r = loc[0] + spr[0]\n",
    "            c = loc[1] + spr[1]\n",
    "            if b[r][c] not in stk:\n",
    "                stk.add(b[r][c])\n",
    "            else:\n",
    "                return False\n",
    "    return True\n",
    "\n",
    "start = time.time()\n",
    "valid_solution([[5, 3, 4, 6, 7, 8, 9, 1, 2], \n",
    "               [6, 7, 2, 1, 9, 0, 3, 4, 9],\n",
    "               [1, 0, 0, 3, 4, 2, 5, 6, 0],\n",
    "               [8, 5, 9, 7, 6, 1, 0, 2, 0],\n",
    "               [4, 2, 6, 8, 5, 3, 7, 9, 1],\n",
    "               [7, 1, 3, 9, 2, 4, 8, 5, 6],\n",
    "               [9, 0, 1, 5, 3, 7, 2, 1, 4],\n",
    "               [2, 8, 7, 4, 1, 9, 6, 3, 5],\n",
    "               [3, 0, 0, 4, 8, 1, 1, 7, 9]])\n",
    "end = time.time()\n",
    "print(f\"Time Elapsed: {end-start}\")"
   ]
  }
 ],
 "metadata": {
  "kernelspec": {
   "display_name": "Python 3",
   "language": "python",
   "name": "python3"
  },
  "language_info": {
   "codemirror_mode": {
    "name": "ipython",
    "version": 3
   },
   "file_extension": ".py",
   "mimetype": "text/x-python",
   "name": "python",
   "nbconvert_exporter": "python",
   "pygments_lexer": "ipython3",
   "version": "3.9.5"
  }
 },
 "nbformat": 4,
 "nbformat_minor": 5
}
